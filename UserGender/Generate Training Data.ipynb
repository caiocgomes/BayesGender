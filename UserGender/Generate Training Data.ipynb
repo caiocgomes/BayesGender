{
 "metadata": {
  "name": "Generate Training Data"
 },
 "nbformat": 3,
 "nbformat_minor": 0,
 "worksheets": [
  {
   "cells": [
    {
     "cell_type": "heading",
     "level": 1,
     "metadata": {},
     "source": [
      "Inferindo Sexo de um Usu\u00e1rio a Partir do Nome - Gerando Dados para Treinamento"
     ]
    },
    {
     "cell_type": "heading",
     "level": 2,
     "metadata": {},
     "source": [
      "Preprocessamento"
     ]
    },
    {
     "cell_type": "markdown",
     "metadata": {},
     "source": [
      "Possuimos um arquivo CSV com o nome completo e o sexo de uma s\u00e9rie de usu\u00e1rios. Os campos s\u00e3o separados por `'#'` e o sexo \u00e9 representado pelos caracteres `M` e `F`. Em primeiro lugar temos que preprocessar o texto para:\n",
      "\n",
      "- remover caracteres `#` extras que se encontram nos nomes dos usu\u00e1rios,\n",
      "- remover acentos e caracteres que n\u00e3o sejam alfab\u00e9ticos\n",
      "- transformar todos os nomes em minusculas\n",
      "- separar um conjunto de treinamento e um de testes"
     ]
    },
    {
     "cell_type": "code",
     "collapsed": false,
     "input": [
      "import unicodedata\n",
      "import random\n",
      "\n",
      "def readLines(fhandle, enc = 'utf-8'):\n",
      "    for line in fhandle:\n",
      "        yield line.decode(enc).strip()\n",
      "\n",
      "def fixSeparators(line, sep = '#'):\n",
      "    parts = line.split(sep)\n",
      "    if len(parts) > 2:\n",
      "        return ''.join(parts[:-1])+'#'+parts[-1]\n",
      "    else:\n",
      "        return '#'.join(parts)\n",
      " \n",
      "def stripAccents(unicodeString):\n",
      "    def NFD(unicodeString):\n",
      "        return unicodedata.normalize('NFD', unicodeString)\n",
      "    \n",
      "    def isAccent(char):\n",
      "        return unicodedata.category(char) == 'Mn'\n",
      "    \n",
      "    return ''.join((char for char in NFD(unicodeString) if not isAccent(char) ))\n",
      "\n",
      "def convertNamesToLowercase(line):\n",
      "    name, gender = line.split('#')\n",
      "    return name.lower() + '#' + gender\n",
      "\n",
      "def removeNonAlphaChars(line):\n",
      "    name, gender = line.split('#')\n",
      "    isValid = lambda char : char.isalpha() or char.isspace()\n",
      "    name = ''.join((char for char in name if isValid(char)))\n",
      "    return name + '#' + gender\n",
      "\n",
      "def textPreProcessor(line):\n",
      "    sepsFixed = fixSeparators(line.strip())\n",
      "    noAccents = stripAccents(sepsFixed)\n",
      "    lowercaseNames = convertNamesToLowercase(noAccents)\n",
      "    alphaOnly = removeNonAlphaChars(lowercaseNames)\n",
      "    return alphaOnly\n",
      "\n",
      "def isNameEmpty(line):\n",
      "    name, gender = line.split(\"#\")\n",
      "    return name.isspace()\n",
      "\n",
      "trainProportion = 0.95\n",
      "\n",
      "with open('sexo.csv', 'r') as dataraw, open('training.csv', 'w') as train, open('testing.csv', 'w') as test:\n",
      "    for k, line in enumerate(readLines(dataraw)):\n",
      "        preprocessed = textPreProcessor(line)\n",
      "        if random.uniform(0,1) < trainProportion and not isNameEmpty(preprocessed):\n",
      "            print >> train, preprocessed.encode('utf-8')\n",
      "        elif not isNameEmpty(preprocessed):\n",
      "            print >> test, preprocessed.encode('utf-8')"
     ],
     "language": "python",
     "metadata": {},
     "outputs": [],
     "prompt_number": 1
    },
    {
     "cell_type": "heading",
     "level": 2,
     "metadata": {},
     "source": [
      "Extraindo features"
     ]
    },
    {
     "cell_type": "markdown",
     "metadata": {},
     "source": [
      "Agora vamos extrair features baseados no nome do usu\u00e1rio. Em primeiro lugar, vamos carregar o arquivo com os dados:"
     ]
    },
    {
     "cell_type": "code",
     "collapsed": false,
     "input": [
      "import pandas\n",
      "\n",
      "data = pandas.read_csv('training.csv', sep='#', names = [\"name\", \"gender\"], index_col= None, skiprows=0)"
     ],
     "language": "python",
     "metadata": {},
     "outputs": [],
     "prompt_number": 2
    },
    {
     "cell_type": "code",
     "collapsed": false,
     "input": [
      "data.head(n=10)"
     ],
     "language": "python",
     "metadata": {},
     "outputs": [
      {
       "html": [
        "<div style=\"max-height:1000px;max-width:1500px;overflow:auto;\">\n",
        "<table border=\"1\" class=\"dataframe\">\n",
        "  <thead>\n",
        "    <tr style=\"text-align: right;\">\n",
        "      <th></th>\n",
        "      <th>name</th>\n",
        "      <th>gender</th>\n",
        "    </tr>\n",
        "  </thead>\n",
        "  <tbody>\n",
        "    <tr>\n",
        "      <td><strong>0</strong></td>\n",
        "      <td>                              leonir carvalho</td>\n",
        "      <td> M</td>\n",
        "    </tr>\n",
        "    <tr>\n",
        "      <td><strong>1</strong></td>\n",
        "      <td>                       leonardo alves teodoro</td>\n",
        "      <td> M</td>\n",
        "    </tr>\n",
        "    <tr>\n",
        "      <td><strong>2</strong></td>\n",
        "      <td>                           marcio jose amaral</td>\n",
        "      <td> M</td>\n",
        "    </tr>\n",
        "    <tr>\n",
        "      <td><strong>3</strong></td>\n",
        "      <td>             margareth silva de mendonccedila</td>\n",
        "      <td> F</td>\n",
        "    </tr>\n",
        "    <tr>\n",
        "      <td><strong>4</strong></td>\n",
        "      <td>                            marina nascimento</td>\n",
        "      <td> F</td>\n",
        "    </tr>\n",
        "    <tr>\n",
        "      <td><strong>5</strong></td>\n",
        "      <td> abrangea industria montagem e manutencao ind</td>\n",
        "      <td> M</td>\n",
        "    </tr>\n",
        "    <tr>\n",
        "      <td><strong>6</strong></td>\n",
        "      <td>                       jean maciel dos santos</td>\n",
        "      <td> M</td>\n",
        "    </tr>\n",
        "    <tr>\n",
        "      <td><strong>7</strong></td>\n",
        "      <td>         luis alexandre do nascimento barreto</td>\n",
        "      <td> M</td>\n",
        "    </tr>\n",
        "    <tr>\n",
        "      <td><strong>8</strong></td>\n",
        "      <td>                         giacomo zaccara neto</td>\n",
        "      <td> M</td>\n",
        "    </tr>\n",
        "    <tr>\n",
        "      <td><strong>9</strong></td>\n",
        "      <td>                         ronaldo martins neto</td>\n",
        "      <td> M</td>\n",
        "    </tr>\n",
        "  </tbody>\n",
        "</table>\n",
        "</div>"
       ],
       "output_type": "pyout",
       "prompt_number": 3,
       "text": [
        "                                           name gender\n",
        "0                               leonir carvalho      M\n",
        "1                        leonardo alves teodoro      M\n",
        "2                            marcio jose amaral      M\n",
        "3              margareth silva de mendonccedila      F\n",
        "4                             marina nascimento      F\n",
        "5  abrangea industria montagem e manutencao ind      M\n",
        "6                        jean maciel dos santos      M\n",
        "7          luis alexandre do nascimento barreto      M\n",
        "8                          giacomo zaccara neto      M\n",
        "9                          ronaldo martins neto      M"
       ]
      }
     ],
     "prompt_number": 3
    },
    {
     "cell_type": "code",
     "collapsed": false,
     "input": [
      "def shinglesn(word, n = 4):\n",
      "    return [word[i:i + n].lower() for i in range(len(word) - n + 1)]\n",
      "\n",
      "def shingles(word):\n",
      "    return shinglesn(word, n=2) + shinglesn(word, n=3) + shinglesn(word, n=4) + shinglesn(word, n=5)\n",
      "\n",
      "def firstName(name):\n",
      "    try:\n",
      "        return name.split()[0]\n",
      "    except Exception, e:\n",
      "        raise Exception(e.message + ' ' + str([name]))\n",
      "\n",
      "def shingler(df):\n",
      "    res = {'gender': [], 'name': [], 'shingle': []}\n",
      "    for _, row in df.iterrows():\n",
      "        name, gender = row\n",
      "        for shingle in shingles(firstName(name)):\n",
      "            res['gender'].append(gender)\n",
      "            res['name'].append(name)\n",
      "            res['shingle'].append(shingle)\n",
      "    return pandas.DataFrame(res)\n",
      "\n",
      "def countMaleFemale(df): \n",
      "    return pandas.Series({'males': df.gender[df.gender == 'M'].count(), \n",
      "                          'females': df.gender[df.gender == 'F'].count()})\n",
      " "
     ],
     "language": "python",
     "metadata": {},
     "outputs": [],
     "prompt_number": 4
    },
    {
     "cell_type": "code",
     "collapsed": false,
     "input": [
      "%time shingleGenderCorr = data.groupby('name').apply(shingler).groupby('shingle').apply(countMaleFemale)\n",
      "%time shingleGenderCorr.index = pandas.Series([string.decode('latin1') for string in shingleGenderCorr.index])"
     ],
     "language": "python",
     "metadata": {},
     "outputs": [
      {
       "output_type": "stream",
       "stream": "stdout",
       "text": [
        "CPU times: user 182.74 s, sys: 1.13 s, total: 183.86 s\n",
        "Wall time: 183.78 s\n",
        "CPU times: user 0.16 s, sys: 0.00 s, total: 0.16 s"
       ]
      },
      {
       "output_type": "stream",
       "stream": "stdout",
       "text": [
        "\n",
        "Wall time: 0.15 s\n"
       ]
      }
     ],
     "prompt_number": 5
    },
    {
     "cell_type": "code",
     "collapsed": false,
     "input": [
      "shingleGenderCorr.sort('females', ascending=False).head()"
     ],
     "language": "python",
     "metadata": {},
     "outputs": [
      {
       "html": [
        "<div style=\"max-height:1000px;max-width:1500px;overflow:auto;\">\n",
        "<table border=\"1\" class=\"dataframe\">\n",
        "  <thead>\n",
        "    <tr style=\"text-align: right;\">\n",
        "      <th></th>\n",
        "      <th>females</th>\n",
        "      <th>males</th>\n",
        "    </tr>\n",
        "  </thead>\n",
        "  <tbody>\n",
        "    <tr>\n",
        "      <td><strong>an</strong></td>\n",
        "      <td> 22324</td>\n",
        "      <td> 25567</td>\n",
        "    </tr>\n",
        "    <tr>\n",
        "      <td><strong>ia</strong></td>\n",
        "      <td> 19371</td>\n",
        "      <td>  9237</td>\n",
        "    </tr>\n",
        "    <tr>\n",
        "      <td><strong>na</strong></td>\n",
        "      <td> 14770</td>\n",
        "      <td>  8322</td>\n",
        "    </tr>\n",
        "    <tr>\n",
        "      <td><strong>ar</strong></td>\n",
        "      <td> 12276</td>\n",
        "      <td> 22082</td>\n",
        "    </tr>\n",
        "    <tr>\n",
        "      <td><strong>ri</strong></td>\n",
        "      <td> 12158</td>\n",
        "      <td> 13685</td>\n",
        "    </tr>\n",
        "  </tbody>\n",
        "</table>\n",
        "</div>"
       ],
       "output_type": "pyout",
       "prompt_number": 6,
       "text": [
        "    females  males\n",
        "an    22324  25567\n",
        "ia    19371   9237\n",
        "na    14770   8322\n",
        "ar    12276  22082\n",
        "ri    12158  13685"
       ]
      }
     ],
     "prompt_number": 6
    },
    {
     "cell_type": "code",
     "collapsed": false,
     "input": [
      "total = pandas.DataFrame({'total':shingleGenderCorr.males + shingleGenderCorr.females})\n",
      "total.sort('total', ascending=False).head()"
     ],
     "language": "python",
     "metadata": {},
     "outputs": [
      {
       "html": [
        "<div style=\"max-height:1000px;max-width:1500px;overflow:auto;\">\n",
        "<table border=\"1\" class=\"dataframe\">\n",
        "  <thead>\n",
        "    <tr style=\"text-align: right;\">\n",
        "      <th></th>\n",
        "      <th>total</th>\n",
        "    </tr>\n",
        "  </thead>\n",
        "  <tbody>\n",
        "    <tr>\n",
        "      <td><strong>an</strong></td>\n",
        "      <td> 47891</td>\n",
        "    </tr>\n",
        "    <tr>\n",
        "      <td><strong>ar</strong></td>\n",
        "      <td> 34358</td>\n",
        "    </tr>\n",
        "    <tr>\n",
        "      <td><strong>ia</strong></td>\n",
        "      <td> 28608</td>\n",
        "    </tr>\n",
        "    <tr>\n",
        "      <td><strong>el</strong></td>\n",
        "      <td> 27385</td>\n",
        "    </tr>\n",
        "    <tr>\n",
        "      <td><strong>ri</strong></td>\n",
        "      <td> 25843</td>\n",
        "    </tr>\n",
        "  </tbody>\n",
        "</table>\n",
        "</div>"
       ],
       "output_type": "pyout",
       "prompt_number": 7,
       "text": [
        "    total\n",
        "an  47891\n",
        "ar  34358\n",
        "ia  28608\n",
        "el  27385\n",
        "ri  25843"
       ]
      }
     ],
     "prompt_number": 7
    },
    {
     "cell_type": "code",
     "collapsed": false,
     "input": [
      "hist = total.groupby('total').count()\n",
      "plot(log(map(float, hist.index)), log(map(float, hist.total)), '.')"
     ],
     "language": "python",
     "metadata": {},
     "outputs": [
      {
       "output_type": "pyout",
       "prompt_number": 8,
       "text": [
        "[<matplotlib.lines.Line2D at 0x6375390>]"
       ]
      },
      {
       "output_type": "display_data",
       "png": "[encoded data removed]"
      }
     ],
     "prompt_number": 8
    },
    {
     "cell_type": "code",
     "collapsed": false,
     "input": [
      "alpha = 0.5\n",
      "T = (shingleGenderCorr.sum()['females'] + 2 * alpha) / (shingleGenderCorr.sum()['males'] + 2* alpha)\n",
      "Chi = (shingleGenderCorr.sum()['females'] + alpha) / (shingleGenderCorr.sum()['males'] + alpha)\n",
      "deltas = (shingleGenderCorr.females + alpha) / (shingleGenderCorr.males + alpha)\n",
      "atleds = (shingleGenderCorr.females.sum() - shingleGenderCorr.females + alpha) / (shingleGenderCorr.males.sum() - shingleGenderCorr.males + alpha)"
     ],
     "language": "python",
     "metadata": {},
     "outputs": [],
     "prompt_number": 9
    },
    {
     "cell_type": "code",
     "collapsed": false,
     "input": [
      "Omega = exp(-atleds.size * log(T) + log(atleds).sum())\n",
      "Theta = deltas / atleds"
     ],
     "language": "python",
     "metadata": {},
     "outputs": [],
     "prompt_number": 10
    },
    {
     "cell_type": "code",
     "collapsed": false,
     "input": [
      "def getTheta(shingle):\n",
      "    return Theta.get(shingle, 1.0 / Chi)\n"
     ],
     "language": "python",
     "metadata": {},
     "outputs": [],
     "prompt_number": 11
    },
    {
     "cell_type": "code",
     "collapsed": false,
     "input": [
      "def probMale(shingles):\n",
      "    const = Chi * Omega\n",
      "    active = prod([getTheta(shingle) for shingle in shingles])\n",
      "    return 1.0 / (1.0 + const * active)\n",
      "\n",
      "def probNameMale(name):\n",
      "    return probMale(shingles(name))"
     ],
     "language": "python",
     "metadata": {},
     "outputs": [],
     "prompt_number": 72
    },
    {
     "cell_type": "code",
     "collapsed": false,
     "input": [],
     "language": "python",
     "metadata": {},
     "outputs": [],
     "prompt_number": 101
    },
    {
     "cell_type": "code",
     "collapsed": false,
     "input": [
      "probMale(shingles('elzagton'))"
     ],
     "language": "python",
     "metadata": {},
     "outputs": [
      {
       "output_type": "pyout",
       "prompt_number": 102,
       "text": [
        "0.78891488797748133"
       ]
      }
     ],
     "prompt_number": 102
    },
    {
     "cell_type": "code",
     "collapsed": false,
     "input": [
      "testdata = pandas.read_csv('testing.csv', sep='#', names = [\"name\", \"gender\"], index_col= None, skiprows=0)"
     ],
     "language": "python",
     "metadata": {},
     "outputs": [],
     "prompt_number": 14
    },
    {
     "cell_type": "code",
     "collapsed": false,
     "input": [
      "count = 0.0\n",
      "error = 0.0\n",
      "for k, row in testdata.iterrows():\n",
      "    try:\n",
      "        name, gender = row\n",
      "        shings = shingles(firstName(name))\n",
      "        sigma = -1 if gender == 'F' else 1\n",
      "        score = (2.0 * probMale(shings) - 1.0) * sigma\n",
      "        if score < 0.0:\n",
      "            #print firstName(name), probMale(shings), gender\n",
      "            error += 1.0\n",
      "        count += 1.0\n",
      "    except:\n",
      "        pass\n",
      "    if k > 100:\n",
      "        break\n",
      "print (count - error)/count"
     ],
     "language": "python",
     "metadata": {},
     "outputs": [
      {
       "output_type": "stream",
       "stream": "stdout",
       "text": [
        "0.813725490196\n"
       ]
      }
     ],
     "prompt_number": 15
    },
    {
     "cell_type": "code",
     "collapsed": false,
     "input": [
      "shingleGenderCorr.index = pandas.Series([string.encode('utf8') for string in shingleGenderCorr.index])\n",
      "shingleGenderCorr.to_csv('trainingshingles.csv', sep = '#')"
     ],
     "language": "python",
     "metadata": {},
     "outputs": [],
     "prompt_number": 16
    }
   ],
   "metadata": {}
  }
 ]
}